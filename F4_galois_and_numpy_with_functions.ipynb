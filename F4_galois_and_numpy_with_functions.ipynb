{
 "cells": [
  {
   "cell_type": "code",
   "execution_count": 9,
   "id": "8fc6fe0d-1c76-4466-a7f5-c556538eb5fd",
   "metadata": {},
   "outputs": [
    {
     "name": "stdout",
     "output_type": "stream",
     "text": [
      "\n",
      "## Final Results (symbolic):\n",
      "c = (0, 0) : (1, x + 1)\n",
      "c = (0, 1) : (1, x)\n",
      "c = (1, 0) : (0, x + 1)\n",
      "c = (1, 1) : (0, x)\n"
     ]
    }
   ],
   "source": [
    "import galois\n",
    "import numpy as np\n",
    "\n",
    "# Define the finite field F2 and F4 using the irreducible polynomial x^2 + x + 1\n",
    "GF4 = galois.GF(2**2, irreducible_poly=\"x^2 + x + 1\", repr=\"poly\")  # Use 'poly' to show x\n",
    "\n",
    "# Define the functions F_0(x) and F_1(x)\n",
    "def F_0(x):\n",
    "    x = GF4(x)  # Ensure x is a GF4 element\n",
    "    result = x**2 + x  # F_0(x) = x^2 + x\n",
    "    return result\n",
    "\n",
    "def F_1(x):\n",
    "    x = GF4(x)  # Ensure x is a GF4 element\n",
    "    result = x + GF4(1)  # F_1(x) = x + 1\n",
    "    return result\n",
    "\n",
    "# General c-derivative formula\n",
    "def compute_c_derivative(F_xa, F_x, c0, c1):\n",
    "    x_a0, x_a1 = F_xa\n",
    "    x_0, x_1 = F_x\n",
    "    \n",
    "    # Convert c0, c1 to GF4 elements\n",
    "    c0 = GF4(c0)\n",
    "    c1 = GF4(c1)\n",
    "    \n",
    "    # Compute components\n",
    "    D_c_F0 = F_0(x_a0) + c0 * F_0(x_0) + c1 * F_1(x_1)  # Subtraction as addition\n",
    "    D_c_F1 = F_1(x_a1) + c0 * F_1(x_1) + c1 * F_0(x_0) + c1 * F_1(x_1)  # Subtraction as addition\n",
    "    \n",
    "    return (D_c_F0, D_c_F1)\n",
    "\n",
    "# Fixed values for F(x + a) and F(x)\n",
    "F_xa = (GF4(\"x + 1\"), GF4(\"x\"))  # F(x + a) = (x + 1, x)\n",
    "F_x = (GF4(\"x\"), GF4(1))         # F(x) = (x, 1)\n",
    "\n",
    "# Use numpy for iteration over c values\n",
    "c_values = np.array([(c0, c1) for c0 in range(2) for c1 in range(2)])  # All (c0, c1) combinations\n",
    "\n",
    "# Compute D_c F for all (c0, c1) combinations\n",
    "results = {}\n",
    "for c0, c1 in c_values:\n",
    "    D_c_F = compute_c_derivative(F_xa, F_x, c0, c1)\n",
    "    results[f\"c = ({c0}, {c1})\"] = D_c_F\n",
    "\n",
    "print(\"\\n## Final Results (symbolic):\")\n",
    "for c_label, (expr1, expr2) in results.items():\n",
    "    expr1_sym = to_symbolic_string(expr1)\n",
    "    expr2_sym = to_symbolic_string(expr2)\n",
    "    print(f\"{c_label} : ({expr1_sym}, {expr2_sym})\")\n",
    "    \n",
    "\"\"\"\n",
    "result:\n",
    "c = (0, 0) : (1, x + 1)\n",
    "c = (0, 1) : (1, x)\n",
    "c = (1, 0) : (0, x + 1)\n",
    "c = (1, 1) : (0, x)\n",
    "\n",
    "\n",
    "But not sure its correct, some other computations says it should be this under, but I dont manage to get it by code: \n",
    "c = (0, 0) : (1, x)\n",
    "c = (0, 1) : (x, 0)\n",
    "c = (1, 0) : (0, 1)\n",
    "c = (1, 1) : (x, x)\n",
    "\"\"\"\n"
   ]
  }
 ],
 "metadata": {
  "kernelspec": {
   "display_name": "Python 3 (ipykernel)",
   "language": "python",
   "name": "python3"
  },
  "language_info": {
   "codemirror_mode": {
    "name": "ipython",
    "version": 3
   },
   "file_extension": ".py",
   "mimetype": "text/x-python",
   "name": "python",
   "nbconvert_exporter": "python",
   "pygments_lexer": "ipython3",
   "version": "3.9.21"
  }
 },
 "nbformat": 4,
 "nbformat_minor": 5
}
