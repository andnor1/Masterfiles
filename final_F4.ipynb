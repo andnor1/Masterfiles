{
 "cells": [
  {
   "cell_type": "code",
   "execution_count": 1,
   "id": "915e2867",
   "metadata": {},
   "outputs": [
    {
     "data": {
      "text/latex": [
       "$\\displaystyle ## Final Results:$"
      ],
      "text/plain": [
       "<IPython.core.display.Math object>"
      ]
     },
     "metadata": {},
     "output_type": "display_data"
    },
    {
     "data": {
      "text/latex": [
       "$\\displaystyle c = (0, 0): \\left(F_0(x+a), F_1(x+a)\\right)$"
      ],
      "text/plain": [
       "<IPython.core.display.Math object>"
      ]
     },
     "metadata": {},
     "output_type": "display_data"
    },
    {
     "data": {
      "text/latex": [
       "$\\displaystyle c = (0, 1): \\left(F_0(x+a) + F_1(x), F_0(x) + F_1(x) + F_1(x+a)\\right)$"
      ],
      "text/plain": [
       "<IPython.core.display.Math object>"
      ]
     },
     "metadata": {},
     "output_type": "display_data"
    },
    {
     "data": {
      "text/latex": [
       "$\\displaystyle c = (1, 0): \\left(F_0(x) + F_0(x+a), F_1(x) + F_1(x+a)\\right)$"
      ],
      "text/plain": [
       "<IPython.core.display.Math object>"
      ]
     },
     "metadata": {},
     "output_type": "display_data"
    },
    {
     "data": {
      "text/latex": [
       "$\\displaystyle c = (1, 1): \\left(F_0(x) + F_0(x+a) + F_1(x), F_0(x) + F_1(x+a)\\right)$"
      ],
      "text/plain": [
       "<IPython.core.display.Math object>"
      ]
     },
     "metadata": {},
     "output_type": "display_data"
    }
   ],
   "source": [
    "from sympy import symbols, simplify, expand, Mod\n",
    "from IPython.display import display, Math\n",
    "\n",
    "# Define symbols for F(x) and F(x + a)\n",
    "F_0x, F_1x, F_0xa, F_1xa = symbols(\"F_0(x) F_1(x) F_0(x+a) F_1(x+a)\")\n",
    "p = 2  # Prime field size for F2, extended to F4\n",
    "\n",
    "# General c-derivative formula\n",
    "def compute_c_derivative(F_xa, F_x, c0, c1):\n",
    "    # Define each component of the derivative\n",
    "    D_c_F0 = F_xa[0] - (c0 * F_x[0] + c1 * F_x[1])\n",
    "    D_c_F1 = F_xa[1] - (c0 * F_x[1] + c1 * F_x[0] + c1 * F_x[1])\n",
    "    return (D_c_F0, D_c_F1)\n",
    "\n",
    "# Modular reduction function using sympy.Mod with subtraction handling\n",
    "def reduce_mod(expr, p):\n",
    "    expanded_expr = expand(expr)  # Expand the expression\n",
    "    # Apply modular reduction to each term explicitly\n",
    "    terms = expanded_expr.as_coefficients_dict()  # Decompose into terms\n",
    "    reduced_expr = sum(\n",
    "        (Mod(coeff, p, evaluate=False) if coeff >= 0 else Mod(coeff + p, p)) * term\n",
    "        for term, coeff in terms.items()\n",
    "    )\n",
    "    reduced_expr = expand(reduced_expr)  # Expand and combine terms\n",
    "    # Convert modular arithmetic into subtraction-based format\n",
    "    return simplify(reduced_expr)\n",
    "\n",
    "# Compute D_c F for all (c0, c1) combinations\n",
    "F_xa = (F_0xa, F_1xa)  # F(x + a)\n",
    "F_x = (F_0x, F_1x)  # F(x)\n",
    "results = {}\n",
    "\n",
    "# Iterate over all (c0, c1) combinations in F2 x F2\n",
    "for c0_val in range(p):  # c0 in {0, 1}\n",
    "    for c1_val in range(p):  # c1 in {0, 1}\n",
    "        # Compute the derivative\n",
    "        D_c_F = compute_c_derivative(F_xa, F_x, c0_val, c1_val)\n",
    "        # Simplify and reduce each component modulo p\n",
    "        reduced_D_c_F = (reduce_mod(D_c_F[0], p), reduce_mod(D_c_F[1], p))\n",
    "        # Store results\n",
    "        results[f\"c = ({c0_val}, {c1_val})\"] = reduced_D_c_F\n",
    "\n",
    "# Display results in LaTeX format\n",
    "display(Math(\"## Final Results:\"))\n",
    "for c_label, (expr1, expr2) in results.items():\n",
    "    display(Math(f\"{c_label}: \\\\left({expr1}, {expr2}\\\\right)\"))\n"
   ]
  },
  {
   "cell_type": "code",
   "execution_count": null,
   "id": "23f5b6e1",
   "metadata": {},
   "outputs": [],
   "source": []
  },
  {
   "cell_type": "code",
   "execution_count": null,
   "id": "34cda9f4",
   "metadata": {},
   "outputs": [],
   "source": []
  }
 ],
 "metadata": {
  "kernelspec": {
   "display_name": "Python 3 (ipykernel)",
   "language": "python",
   "name": "python3"
  },
  "language_info": {
   "codemirror_mode": {
    "name": "ipython",
    "version": 3
   },
   "file_extension": ".py",
   "mimetype": "text/x-python",
   "name": "python",
   "nbconvert_exporter": "python",
   "pygments_lexer": "ipython3",
   "version": "3.9.21"
  }
 },
 "nbformat": 4,
 "nbformat_minor": 5
}
