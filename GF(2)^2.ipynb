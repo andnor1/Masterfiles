{
 "cells": [
  {
   "cell_type": "code",
   "execution_count": 1,
   "id": "ed951229-403a-4192-91de-a4f1096dc3b5",
   "metadata": {},
   "outputs": [
    {
     "name": "stdout",
     "output_type": "stream",
     "text": [
      "\n",
      "## Final Results (binary):\n",
      "x = (0, 0), c = (0, 0): (D_c_F0 = 0, D_c_F1 = 0)\n",
      "x = (0, 0), c = (0, 1): (D_c_F0 = 1, D_c_F1 = 1)\n",
      "x = (0, 0), c = (1, 0): (D_c_F0 = 0, D_c_F1 = 1)\n",
      "x = (0, 0), c = (1, 1): (D_c_F0 = 1, D_c_F1 = 0)\n",
      "x = (0, 1), c = (0, 0): (D_c_F0 = 0, D_c_F1 = 1)\n",
      "x = (0, 1), c = (0, 1): (D_c_F0 = 0, D_c_F1 = 1)\n",
      "x = (0, 1), c = (1, 0): (D_c_F0 = 0, D_c_F1 = 1)\n",
      "x = (0, 1), c = (1, 1): (D_c_F0 = 0, D_c_F1 = 1)\n",
      "x = (1, 0), c = (0, 0): (D_c_F0 = 1, D_c_F1 = 1)\n",
      "x = (1, 0), c = (0, 1): (D_c_F0 = 1, D_c_F1 = 1)\n",
      "x = (1, 0), c = (1, 0): (D_c_F0 = 1, D_c_F1 = 1)\n",
      "x = (1, 0), c = (1, 1): (D_c_F0 = 1, D_c_F1 = 1)\n",
      "x = (1, 1), c = (0, 0): (D_c_F0 = 0, D_c_F1 = 0)\n",
      "x = (1, 1), c = (0, 1): (D_c_F0 = 1, D_c_F1 = 0)\n",
      "x = (1, 1), c = (1, 0): (D_c_F0 = 1, D_c_F1 = 1)\n",
      "x = (1, 1), c = (1, 1): (D_c_F0 = 0, D_c_F1 = 1)\n"
     ]
    }
   ],
   "source": [
    "import numpy as np\n",
    "\n",
    "# Define function F_0 and F_1 in GF(2)\n",
    "def F_0(x0, x1):\n",
    "    \"\"\"Computes F_0(x0, x1) = x0 * x1 (Boolean AND in GF(2))\"\"\"\n",
    "    return x0 & x1  # Multiplication in GF(2)\n",
    "\n",
    "def F_1(x0, x1):\n",
    "    \"\"\"Computes F_1(x0, x1) = x0 + x1 + 1 (XOR in GF(2))\"\"\"\n",
    "    return x0 ^ x1 ^ 1  # Addition is XOR in GF(2)\n",
    "\n",
    "# Compute c-derivative\n",
    "def compute_c_derivative(F_xa, F_x, c0, c1):\n",
    "    \"\"\"\n",
    "    Computes the c-differential: D_c F(x, a) = F(x + a) ⊕ c * F(x).\n",
    "    \"\"\"\n",
    "    x_a0, x_a1 = F_xa  # F(x + a)\n",
    "    x0, x1 = F_x        # F(x)\n",
    "\n",
    "    # Compute F(x + a)\n",
    "    Fx_a0 = F_0(x_a0, x_a1)\n",
    "    Fx_a1 = F_1(x_a0, x_a1)\n",
    "\n",
    "    # Compute c * F(x)\n",
    "    c_Fx0 = (c0 & F_0(x0, x1)) ^ (c1 & F_1(x0, x1))  # XOR in GF(2)\n",
    "    c_Fx1 = (c0 & F_1(x0, x1)) ^ (c1 & F_0(x0, x1)) ^ (c1 & F_1(x0, x1))  # XOR in GF(2)\n",
    "\n",
    "    # Compute D_c F(x, a) = F(x + a) ⊕ c * F(x)\n",
    "    D_c_F0 = Fx_a0 ^ c_Fx0  # XOR in GF(2)\n",
    "    D_c_F1 = Fx_a1 ^ c_Fx1  # XOR in GF(2)\n",
    "\n",
    "    return (D_c_F0, D_c_F1)\n",
    "\n",
    "# Example inputs for F(x + a) and F(x)\n",
    "a = (0, 1)  # a = (0,1)\n",
    "x_values = [(x0, x1) for x0 in range(2) for x1 in range(2)]  # All x in GF(2)^2\n",
    "\n",
    "# Use numpy for iteration over c values\n",
    "c_values = np.array([(c0, c1) for c0 in range(2) for c1 in range(2)])  # All (c0, c1) combinations\n",
    "\n",
    "# Compute D_c F for all x and (c0, c1) combinations\n",
    "results = {}\n",
    "for x in x_values:\n",
    "    x_a = (x[0], x[1] ^ a[1])  # Compute x + a using XOR\n",
    "    for c0, c1 in c_values:\n",
    "        D_c_F = compute_c_derivative(x_a, x, c0, c1)\n",
    "        results[f\"x = {x}, c = ({c0}, {c1})\"] = D_c_F\n",
    "\n",
    "# Display results\n",
    "print(\"\\n## Final Results (binary):\")\n",
    "for key, (expr1, expr2) in results.items():\n",
    "    print(f\"{key}: (D_c_F0 = {expr1}, D_c_F1 = {expr2})\")\n"
   ]
  }
 ],
 "metadata": {
  "kernelspec": {
   "display_name": "Python [conda env:base] *",
   "language": "python",
   "name": "conda-base-py"
  },
  "language_info": {
   "codemirror_mode": {
    "name": "ipython",
    "version": 3
   },
   "file_extension": ".py",
   "mimetype": "text/x-python",
   "name": "python",
   "nbconvert_exporter": "python",
   "pygments_lexer": "ipython3",
   "version": "3.9.21"
  }
 },
 "nbformat": 4,
 "nbformat_minor": 5
}
