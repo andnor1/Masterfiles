{
 "cells": [
  {
   "cell_type": "code",
   "execution_count": 10,
   "id": "960537ff-c7c7-4769-b495-47b8f39c58f5",
   "metadata": {},
   "outputs": [
    {
     "name": "stdout",
     "output_type": "stream",
     "text": [
      "## Final Results:\n",
      "\n",
      "c = (0, 0) : (1, α + 1)\n",
      "c = (0, 1) : (α + 1, 0)\n",
      "c = (1, 0) : (0, 1)\n",
      "c = (1, 1) : (α, α)\n"
     ]
    }
   ],
   "source": [
    "import galois\n",
    "import numpy as np\n",
    "from IPython.display import display, Math\n",
    "\n",
    "# Define the finite field F2 and F4 using the irreducible polynomial x^2 + x + 1\n",
    "GF2 = galois.GF(2)\n",
    "GF4 = galois.GF(2**2, irreducible_poly=\"x^2 + x + 1\", repr=\"poly\")  # Use 'poly' to show α\n",
    "\n",
    "# Define the functions F_0(x) and F_1(x)\n",
    "def F_0(x):\n",
    "\n",
    "    x = GF4(x)  # Ensure x is a GF4 element\n",
    "    return x**2 + x  # Modifiable function for F_0(x)\n",
    "\n",
    "def F_1(x):\n",
    "    x = GF4(x)  # Ensure x is a GF4 element\n",
    "    return GF4(2) * x + GF4(1)  # Modifiable function for F_1(x)\n",
    "\n",
    "# General c-derivative formula\n",
    "def compute_c_derivative(F_xa, F_x, c0, c1):\n",
    "\n",
    "    x_a0, x_a1 = F_xa\n",
    "    x_0, x_1 = F_x\n",
    "    \n",
    "    # Convert c0, c1 to elements of GF4\n",
    "    c0 = GF4(c0)\n",
    "    c1 = GF4(c1)\n",
    "    \n",
    "    # Compute D_c F0 and D_c F1 using the provided general formula\n",
    "    D_c_F0 = F_0(x_a0) - (c0 * F_0(x_0) + c1 * F_1(x_1))\n",
    "    D_c_F1 = F_1(x_a1) - (c0 * F_1(x_1) + c1 * F_0(x_0) + c1 * F_1(x_1))\n",
    "    \n",
    "    return (D_c_F0, D_c_F1)\n",
    "\n",
    "# Compute D_c F for all (c0, c1) combinations using numpy for efficient iteration\n",
    "F_xa = (GF4.Random(), GF4.Random())  # F(x + a) as elements of GF4\n",
    "F_x = (GF4.Random(), GF4.Random())  # F(x) as elements of GF4\n",
    "results = {}\n",
    "\n",
    "# Create all possible combinations of (c0, c1) using numpy\n",
    "c_values = np.array([(c0, c1) for c0 in range(2) for c1 in range(2)])\n",
    "\n",
    "# Iterate over all (c0, c1) combinations in F2 x F2\n",
    "for c0_val, c1_val in c_values:  # c0, c1 in {0, 1}\n",
    "    # Compute the derivative\n",
    "    D_c_F = compute_c_derivative(F_xa, F_x, c0_val, c1_val)\n",
    "    # Store results\n",
    "    results[f\"c = ({c0_val}, {c1_val})\"] = D_c_F\n",
    "\n",
    "# Display results in a more readable format\n",
    "print(\"## Final Results:\\n\")\n",
    "for c_label, (expr1, expr2) in results.items():\n",
    "    expr1_str = str(expr1)  # Get symbolic representation for GF4 elements\n",
    "    expr2_str = str(expr2)  # Get symbolic representation for GF4 elements\n",
    "    print(f\"{c_label} : ({expr1_str}, {expr2_str})\")\n"
   ]
  }
 ],
 "metadata": {
  "kernelspec": {
   "display_name": "Python 3 (ipykernel)",
   "language": "python",
   "name": "python3"
  },
  "language_info": {
   "codemirror_mode": {
    "name": "ipython",
    "version": 3
   },
   "file_extension": ".py",
   "mimetype": "text/x-python",
   "name": "python",
   "nbconvert_exporter": "python",
   "pygments_lexer": "ipython3",
   "version": "3.9.21"
  }
 },
 "nbformat": 4,
 "nbformat_minor": 5
}
