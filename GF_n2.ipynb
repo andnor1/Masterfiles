{
 "cells": [
  {
   "cell_type": "code",
   "execution_count": 14,
   "id": "c17ab42d-1be8-4a29-90d5-e0b61dcfb305",
   "metadata": {},
   "outputs": [
    {
     "name": "stdout",
     "output_type": "stream",
     "text": [
      "\n",
      "## Final Results (symbolic):\n",
      "c = (0, 0) : (['x', '0'], ['x + 1', '1'])\n",
      "c = (0, 1) : (['x + 1', 'x + 1'], ['x + 1', 'x + 1'])\n",
      "c = (1, 0) : (['x', 'x'], ['x', 'x'])\n",
      "c = (1, 1) : (['x + 1', '1'], ['x', '0'])\n"
     ]
    }
   ],
   "source": [
    "import galois\n",
    "import numpy as np\n",
    "\n",
    "# Define the finite field GF(4) using the irreducible polynomial x^2 + x + 1\n",
    "GF4 = galois.GF(2**2, irreducible_poly=\"x^2 + x + 1\", repr=\"poly\")\n",
    "\n",
    "# Define F_0(x1, x2) and F_1(y1, y2)\n",
    "def F_0(x1, x2):\n",
    "    \"\"\"\n",
    "    Computes F_0(x1, x2) for two elements in GF(4).\n",
    "    :param x1: First element in GF(4)\n",
    "    :param x2: Second element in GF(4)\n",
    "    :return: F_0(x1, x2) = x1^2 + x2\n",
    "    \"\"\"\n",
    "    x1, x2 = GF4(x1), GF4(x2)  # Ensure inputs are GF(4) elements\n",
    "    return x1**2 + x2  # Example of a degree 2 polynomial\n",
    "\n",
    "def F_1(y1, y2):\n",
    "    \"\"\"\n",
    "    Computes F_1(y1, y2) for two elements in GF(4).\n",
    "    :param y1: First element in GF(4)\n",
    "    :param y2: Second element in GF(4)\n",
    "    :return: F_1(y1, y2) = y1 + y2\n",
    "    \"\"\"\n",
    "    y1, y2 = GF4(y1), GF4(y2)  # Ensure inputs are GF(4) elements\n",
    "    return y1 + y2  # Example of a degree 2 polynomial\n",
    "\n",
    "# General c-derivative formula\n",
    "def compute_c_derivative(F_xa, F_x, c0, c1):\n",
    "    \"\"\"\n",
    "    Computes the c-derivative for given F(x + a), F(x), c0, and c1.\n",
    "    :param F_xa: Tuple of GF(4) arrays representing F(x + a)\n",
    "    :param F_x: Tuple of GF(4) arrays representing F(x)\n",
    "    :param c0: Element in GF(2)\n",
    "    :param c1: Element in GF(2)\n",
    "    :return: Tuple of GF(4) arrays representing the c-derivative\n",
    "    \"\"\"\n",
    "    x_a1, x_a2 = F_xa\n",
    "    x1, x2 = F_x\n",
    "    \n",
    "    # Convert c0, c1 to GF4 elements\n",
    "    c0 = GF4(c0)\n",
    "    c1 = GF4(c1)\n",
    "    \n",
    "    # Compute components\n",
    "    D_c_F0 = F_0(x_a1, x_a2) + c0 * F_0(x1, x2) + c1 * F_1(x1, x2)\n",
    "    D_c_F1 = F_1(x_a1, x_a2) + c0 * F_1(x1, x2) + c1 * F_0(x1, x2)\n",
    "    \n",
    "    return (D_c_F0, D_c_F1)\n",
    "\n",
    "# Example inputs for F(x + a) and F(x)\n",
    "F_xa = (GF4([\"x\", \"x + 1\"]), GF4([\"1\", \"x\"]))  # Arrays for F(x + a)\n",
    "F_x = (GF4([\"x + 1\", \"x\"]), GF4([\"x\", \"1\"]))   # Arrays for F(x)\n",
    "\n",
    "\n",
    "# Use numpy for iteration over c values\n",
    "c_values = np.array([(c0, c1) for c0 in range(2) for c1 in range(2)])  # All (c0, c1) combinations\n",
    "\n",
    "# Compute D_c F for all (c0, c1) combinations\n",
    "results = {}\n",
    "for c0, c1 in c_values:\n",
    "    D_c_F = compute_c_derivative(F_xa, F_x, c0, c1)\n",
    "    results[f\"c = ({c0}, {c1})\"] = D_c_F\n",
    "\n",
    "print(\"\\n## Final Results (symbolic):\")\n",
    "for c_label, (expr1, expr2) in results.items():\n",
    "    expr1_sym = [to_symbolic_string(val) for val in expr1]  # Convert each element in the array\n",
    "    expr2_sym = [to_symbolic_string(val) for val in expr2]  # Convert each element in the array\n",
    "    print(f\"{c_label} : ({expr1_sym}, {expr2_sym})\")"
   ]
  }
 ],
 "metadata": {
  "kernelspec": {
   "display_name": "Python 3 (ipykernel)",
   "language": "python",
   "name": "python3"
  },
  "language_info": {
   "codemirror_mode": {
    "name": "ipython",
    "version": 3
   },
   "file_extension": ".py",
   "mimetype": "text/x-python",
   "name": "python",
   "nbconvert_exporter": "python",
   "pygments_lexer": "ipython3",
   "version": "3.9.21"
  }
 },
 "nbformat": 4,
 "nbformat_minor": 5
}
